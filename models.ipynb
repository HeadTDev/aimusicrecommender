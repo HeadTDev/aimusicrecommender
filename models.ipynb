{
 "cells": [
  {
   "cell_type": "markdown",
   "id": "3d3f1aa7",
   "metadata": {},
   "source": [
    "## AI Music Recommendatiomn App Models"
   ]
  },
  {
   "cell_type": "markdown",
   "id": "db12cafe",
   "metadata": {},
   "source": [
    "### Data Preparation"
   ]
  },
  {
   "cell_type": "code",
   "execution_count": null,
   "id": "01aeb659",
   "metadata": {
    "vscode": {
     "languageId": "plaintext"
    }
   },
   "outputs": [],
   "source": []
  }
 ],
 "metadata": {
  "language_info": {
   "name": "python"
  }
 },
 "nbformat": 4,
 "nbformat_minor": 5
}
